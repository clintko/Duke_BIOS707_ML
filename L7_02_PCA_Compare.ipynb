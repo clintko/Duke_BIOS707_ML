{
 "cells": [
  {
   "cell_type": "code",
   "execution_count": 1,
   "metadata": {},
   "outputs": [],
   "source": [
    "###Relationship between forms of PCA\n",
    "set.seed(1234)\n",
    "x <- rnorm(100)\n",
    "y <- rnorm(100)"
   ]
  },
  {
   "cell_type": "code",
   "execution_count": 2,
   "metadata": {},
   "outputs": [
    {
     "data": {
      "image/png": "[encoded data removed]",
      "text/plain": [
       "plot without title"
      ]
     },
     "metadata": {},
     "output_type": "display_data"
    }
   ],
   "source": [
    "xyNorm <- cbind(x = (x - mean(x))/sd(x), y = (y - mean(y))/sd(y)) #normalize data\n",
    "plot(xyNorm)"
   ]
  },
  {
   "cell_type": "code",
   "execution_count": 3,
   "metadata": {},
   "outputs": [],
   "source": [
    "### Method one: eigendecomposition of covariance matrix\n",
    "xyCov <- cov(xyNorm)\n",
    "xyEigen <- eigen(xyCov) ###Eigen Decomposition off cov/cor matrix\n",
    "\n",
    "### Method two: XVD\n",
    "xySVD <- svd(xyNorm)   ###SVD is off the original data\n",
    "\n",
    "### Method three: PCA\n",
    "xyPCA   <- prcomp(xyNorm)\n",
    "xyPCA.e <- princomp(xyNorm)"
   ]
  },
  {
   "cell_type": "code",
   "execution_count": 4,
   "metadata": {},
   "outputs": [],
   "source": [
    "D <- matrix(0, ncol = 2, nrow = 2)\n",
    "diag(D) <- xySVD$d"
   ]
  },
  {
   "cell_type": "code",
   "execution_count": 5,
   "metadata": {},
   "outputs": [
    {
     "data": {
      "text/html": [
       "<table>\n",
       "<thead><tr><th></th><th scope=col>PC1</th><th scope=col>PC2</th></tr></thead>\n",
       "<tbody>\n",
       "\t<tr><th scope=row>x</th><td> 0.7071068</td><td>0.7071068 </td></tr>\n",
       "\t<tr><th scope=row>y</th><td>-0.7071068</td><td>0.7071068 </td></tr>\n",
       "</tbody>\n",
       "</table>\n"
      ],
      "text/latex": [
       "\\begin{tabular}{r|ll}\n",
       "  & PC1 & PC2\\\\\n",
       "\\hline\n",
       "\tx &  0.7071068 & 0.7071068 \\\\\n",
       "\ty & -0.7071068 & 0.7071068 \\\\\n",
       "\\end{tabular}\n"
      ],
      "text/markdown": [
       "\n",
       "| <!--/--> | PC1 | PC2 | \n",
       "|---|---|\n",
       "| x |  0.7071068 | 0.7071068  | \n",
       "| y | -0.7071068 | 0.7071068  | \n",
       "\n",
       "\n"
      ],
      "text/plain": [
       "  PC1        PC2      \n",
       "x  0.7071068 0.7071068\n",
       "y -0.7071068 0.7071068"
      ]
     },
     "metadata": {},
     "output_type": "display_data"
    },
    {
     "data": {
      "text/html": [
       "<table>\n",
       "<tbody>\n",
       "\t<tr><td> 0.7071068</td><td>0.7071068 </td></tr>\n",
       "\t<tr><td>-0.7071068</td><td>0.7071068 </td></tr>\n",
       "</tbody>\n",
       "</table>\n"
      ],
      "text/latex": [
       "\\begin{tabular}{ll}\n",
       "\t  0.7071068 & 0.7071068 \\\\\n",
       "\t -0.7071068 & 0.7071068 \\\\\n",
       "\\end{tabular}\n"
      ],
      "text/markdown": [
       "\n",
       "|  0.7071068 | 0.7071068  | \n",
       "| -0.7071068 | 0.7071068  | \n",
       "\n",
       "\n"
      ],
      "text/plain": [
       "     [,1]       [,2]     \n",
       "[1,]  0.7071068 0.7071068\n",
       "[2,] -0.7071068 0.7071068"
      ]
     },
     "metadata": {},
     "output_type": "display_data"
    },
    {
     "data": {
      "text/plain": [
       "\n",
       "Loadings:\n",
       "  Comp.1 Comp.2\n",
       "x  0.707  0.707\n",
       "y -0.707  0.707\n",
       "\n",
       "               Comp.1 Comp.2\n",
       "SS loadings       1.0    1.0\n",
       "Proportion Var    0.5    0.5\n",
       "Cumulative Var    0.5    1.0"
      ]
     },
     "metadata": {},
     "output_type": "display_data"
    },
    {
     "data": {
      "text/html": [
       "<table>\n",
       "<tbody>\n",
       "\t<tr><td>-0.7071068</td><td>-0.7071068</td></tr>\n",
       "\t<tr><td> 0.7071068</td><td>-0.7071068</td></tr>\n",
       "</tbody>\n",
       "</table>\n"
      ],
      "text/latex": [
       "\\begin{tabular}{ll}\n",
       "\t -0.7071068 & -0.7071068\\\\\n",
       "\t  0.7071068 & -0.7071068\\\\\n",
       "\\end{tabular}\n"
      ],
      "text/markdown": [
       "\n",
       "| -0.7071068 | -0.7071068 | \n",
       "|  0.7071068 | -0.7071068 | \n",
       "\n",
       "\n"
      ],
      "text/plain": [
       "     [,1]       [,2]      \n",
       "[1,] -0.7071068 -0.7071068\n",
       "[2,]  0.7071068 -0.7071068"
      ]
     },
     "metadata": {},
     "output_type": "display_data"
    }
   ],
   "source": [
    "###names of things in prcomp\n",
    "###The Loadings\n",
    "xyPCA$rotation \n",
    "\n",
    "xySVD$v\n",
    "\n",
    "xyPCA.e$loadings\n",
    "xyEigen$vectors"
   ]
  },
  {
   "cell_type": "code",
   "execution_count": 6,
   "metadata": {},
   "outputs": [
    {
     "data": {
      "text/html": [
       "<table>\n",
       "<thead><tr><th scope=col>PC1</th><th scope=col>PC2</th></tr></thead>\n",
       "<tbody>\n",
       "\t<tr><td>-0.9951379 </td><td>-0.48370154</td></tr>\n",
       "\t<tr><td> 0.6591358 </td><td>-0.04779014</td></tr>\n",
       "\t<tr><td> 0.8568582 </td><td> 0.89076895</td></tr>\n",
       "\t<tr><td>-1.1685431 </td><td>-1.91350244</td></tr>\n",
       "\t<tr><td> 1.0065769 </td><td>-0.18164249</td></tr>\n",
       "\t<tr><td> 0.3804840 </td><td> 0.55277041</td></tr>\n",
       "</tbody>\n",
       "</table>\n"
      ],
      "text/latex": [
       "\\begin{tabular}{ll}\n",
       " PC1 & PC2\\\\\n",
       "\\hline\n",
       "\t -0.9951379  & -0.48370154\\\\\n",
       "\t  0.6591358  & -0.04779014\\\\\n",
       "\t  0.8568582  &  0.89076895\\\\\n",
       "\t -1.1685431  & -1.91350244\\\\\n",
       "\t  1.0065769  & -0.18164249\\\\\n",
       "\t  0.3804840  &  0.55277041\\\\\n",
       "\\end{tabular}\n"
      ],
      "text/markdown": [
       "\n",
       "PC1 | PC2 | \n",
       "|---|---|---|---|---|---|\n",
       "| -0.9951379  | -0.48370154 | \n",
       "|  0.6591358  | -0.04779014 | \n",
       "|  0.8568582  |  0.89076895 | \n",
       "| -1.1685431  | -1.91350244 | \n",
       "|  1.0065769  | -0.18164249 | \n",
       "|  0.3804840  |  0.55277041 | \n",
       "\n",
       "\n"
      ],
      "text/plain": [
       "     PC1        PC2        \n",
       "[1,] -0.9951379 -0.48370154\n",
       "[2,]  0.6591358 -0.04779014\n",
       "[3,]  0.8568582  0.89076895\n",
       "[4,] -1.1685431 -1.91350244\n",
       "[5,]  1.0065769 -0.18164249\n",
       "[6,]  0.3804840  0.55277041"
      ]
     },
     "metadata": {},
     "output_type": "display_data"
    },
    {
     "data": {
      "text/html": [
       "<table>\n",
       "<tbody>\n",
       "\t<tr><td>-0.9951379 </td><td>-0.48370154</td></tr>\n",
       "\t<tr><td> 0.6591358 </td><td>-0.04779014</td></tr>\n",
       "\t<tr><td> 0.8568582 </td><td> 0.89076895</td></tr>\n",
       "\t<tr><td>-1.1685431 </td><td>-1.91350244</td></tr>\n",
       "\t<tr><td> 1.0065769 </td><td>-0.18164249</td></tr>\n",
       "\t<tr><td> 0.3804840 </td><td> 0.55277041</td></tr>\n",
       "</tbody>\n",
       "</table>\n"
      ],
      "text/latex": [
       "\\begin{tabular}{ll}\n",
       "\t -0.9951379  & -0.48370154\\\\\n",
       "\t  0.6591358  & -0.04779014\\\\\n",
       "\t  0.8568582  &  0.89076895\\\\\n",
       "\t -1.1685431  & -1.91350244\\\\\n",
       "\t  1.0065769  & -0.18164249\\\\\n",
       "\t  0.3804840  &  0.55277041\\\\\n",
       "\\end{tabular}\n"
      ],
      "text/markdown": [
       "\n",
       "| -0.9951379  | -0.48370154 | \n",
       "|  0.6591358  | -0.04779014 | \n",
       "|  0.8568582  |  0.89076895 | \n",
       "| -1.1685431  | -1.91350244 | \n",
       "|  1.0065769  | -0.18164249 | \n",
       "|  0.3804840  |  0.55277041 | \n",
       "\n",
       "\n"
      ],
      "text/plain": [
       "     [,1]       [,2]       \n",
       "[1,] -0.9951379 -0.48370154\n",
       "[2,]  0.6591358 -0.04779014\n",
       "[3,]  0.8568582  0.89076895\n",
       "[4,] -1.1685431 -1.91350244\n",
       "[5,]  1.0065769 -0.18164249\n",
       "[6,]  0.3804840  0.55277041"
      ]
     },
     "metadata": {},
     "output_type": "display_data"
    },
    {
     "data": {
      "text/html": [
       "<table>\n",
       "<thead><tr><th scope=col>Comp.1</th><th scope=col>Comp.2</th></tr></thead>\n",
       "<tbody>\n",
       "\t<tr><td>-0.9951379 </td><td>-0.48370154</td></tr>\n",
       "\t<tr><td> 0.6591358 </td><td>-0.04779014</td></tr>\n",
       "\t<tr><td> 0.8568582 </td><td> 0.89076895</td></tr>\n",
       "\t<tr><td>-1.1685431 </td><td>-1.91350244</td></tr>\n",
       "\t<tr><td> 1.0065769 </td><td>-0.18164249</td></tr>\n",
       "\t<tr><td> 0.3804840 </td><td> 0.55277041</td></tr>\n",
       "</tbody>\n",
       "</table>\n"
      ],
      "text/latex": [
       "\\begin{tabular}{ll}\n",
       " Comp.1 & Comp.2\\\\\n",
       "\\hline\n",
       "\t -0.9951379  & -0.48370154\\\\\n",
       "\t  0.6591358  & -0.04779014\\\\\n",
       "\t  0.8568582  &  0.89076895\\\\\n",
       "\t -1.1685431  & -1.91350244\\\\\n",
       "\t  1.0065769  & -0.18164249\\\\\n",
       "\t  0.3804840  &  0.55277041\\\\\n",
       "\\end{tabular}\n"
      ],
      "text/markdown": [
       "\n",
       "Comp.1 | Comp.2 | \n",
       "|---|---|---|---|---|---|\n",
       "| -0.9951379  | -0.48370154 | \n",
       "|  0.6591358  | -0.04779014 | \n",
       "|  0.8568582  |  0.89076895 | \n",
       "| -1.1685431  | -1.91350244 | \n",
       "|  1.0065769  | -0.18164249 | \n",
       "|  0.3804840  |  0.55277041 | \n",
       "\n",
       "\n"
      ],
      "text/plain": [
       "     Comp.1     Comp.2     \n",
       "[1,] -0.9951379 -0.48370154\n",
       "[2,]  0.6591358 -0.04779014\n",
       "[3,]  0.8568582  0.89076895\n",
       "[4,] -1.1685431 -1.91350244\n",
       "[5,]  1.0065769 -0.18164249\n",
       "[6,]  0.3804840  0.55277041"
      ]
     },
     "metadata": {},
     "output_type": "display_data"
    },
    {
     "data": {
      "text/html": [
       "<table>\n",
       "<tbody>\n",
       "\t<tr><td> 0.9951379 </td><td> 0.48370154</td></tr>\n",
       "\t<tr><td>-0.6591358 </td><td> 0.04779014</td></tr>\n",
       "\t<tr><td>-0.8568582 </td><td>-0.89076895</td></tr>\n",
       "\t<tr><td> 1.1685431 </td><td> 1.91350244</td></tr>\n",
       "\t<tr><td>-1.0065769 </td><td> 0.18164249</td></tr>\n",
       "\t<tr><td>-0.3804840 </td><td>-0.55277041</td></tr>\n",
       "</tbody>\n",
       "</table>\n"
      ],
      "text/latex": [
       "\\begin{tabular}{ll}\n",
       "\t  0.9951379  &  0.48370154\\\\\n",
       "\t -0.6591358  &  0.04779014\\\\\n",
       "\t -0.8568582  & -0.89076895\\\\\n",
       "\t  1.1685431  &  1.91350244\\\\\n",
       "\t -1.0065769  &  0.18164249\\\\\n",
       "\t -0.3804840  & -0.55277041\\\\\n",
       "\\end{tabular}\n"
      ],
      "text/markdown": [
       "\n",
       "|  0.9951379  |  0.48370154 | \n",
       "| -0.6591358  |  0.04779014 | \n",
       "| -0.8568582  | -0.89076895 | \n",
       "|  1.1685431  |  1.91350244 | \n",
       "| -1.0065769  |  0.18164249 | \n",
       "| -0.3804840  | -0.55277041 | \n",
       "\n",
       "\n"
      ],
      "text/plain": [
       "     [,1]       [,2]       \n",
       "[1,]  0.9951379  0.48370154\n",
       "[2,] -0.6591358  0.04779014\n",
       "[3,] -0.8568582 -0.89076895\n",
       "[4,]  1.1685431  1.91350244\n",
       "[5,] -1.0065769  0.18164249\n",
       "[6,] -0.3804840 -0.55277041"
      ]
     },
     "metadata": {},
     "output_type": "display_data"
    }
   ],
   "source": [
    "###The PCs\n",
    "head(xyPCA$x)\n",
    "head(xySVD$u %*% D)\n",
    "head(xyPCA.e$scores)\n",
    "head(xyNorm %*% xyEigen$vectors) ###Need to transform against the original data"
   ]
  },
  {
   "cell_type": "code",
   "execution_count": 18,
   "metadata": {},
   "outputs": [
    {
     "name": "stdout",
     "output_type": "stream",
     "text": [
      "[1] 10.075361  9.822785\n",
      "[1] 1.0253829 0.9746171\n",
      "[1] 1.0253829 0.9746171\n"
     ]
    }
   ],
   "source": [
    "print(xySVD$d)\n",
    "print(xyPCA$sdev^2)\n",
    "print(xyEigen$values)"
   ]
  },
  {
   "cell_type": "code",
   "execution_count": 20,
   "metadata": {},
   "outputs": [
    {
     "name": "stdout",
     "output_type": "stream",
     "text": [
      "[1] 1.0253829 0.9746171\n",
      "[1] 1.0253829 0.9746171\n",
      "[1] 1.0253829 0.9746171\n"
     ]
    }
   ],
   "source": [
    "print(xySVD$d^2 / (nrow(xySVD$u)-1))\n",
    "print(xyPCA$sdev^2)\n",
    "print(xyEigen$values)"
   ]
  },
  {
   "cell_type": "markdown",
   "metadata": {},
   "source": [
    "More explanation:\n",
    "- [Running PCA and SVD in R](http://genomicsclass.github.io/book/pages/pca_svd.html)\n",
    "- [Relationship between SVD and PCA. How to use SVD to perform PCA?](https://stats.stackexchange.com/questions/134282/relationship-between-svd-and-pca-how-to-use-svd-to-perform-pca)"
   ]
  },
  {
   "cell_type": "code",
   "execution_count": 7,
   "metadata": {},
   "outputs": [
    {
     "data": {
      "text/html": [
       "<table>\n",
       "<tbody>\n",
       "\t<tr><td>-1.0456974 </td><td> 0.36164012</td></tr>\n",
       "\t<tr><td> 0.4322866 </td><td>-0.49987210</td></tr>\n",
       "\t<tr><td> 1.2357590 </td><td> 0.02397851</td></tr>\n",
       "\t<tr><td>-2.1793353 </td><td>-0.52676577</td></tr>\n",
       "\t<tr><td> 0.5833167 </td><td>-0.84019802</td></tr>\n",
       "\t<tr><td> 0.6599105 </td><td> 0.12182488</td></tr>\n",
       "</tbody>\n",
       "</table>\n"
      ],
      "text/latex": [
       "\\begin{tabular}{ll}\n",
       "\t -1.0456974  &  0.36164012\\\\\n",
       "\t  0.4322866  & -0.49987210\\\\\n",
       "\t  1.2357590  &  0.02397851\\\\\n",
       "\t -2.1793353  & -0.52676577\\\\\n",
       "\t  0.5833167  & -0.84019802\\\\\n",
       "\t  0.6599105  &  0.12182488\\\\\n",
       "\\end{tabular}\n"
      ],
      "text/markdown": [
       "\n",
       "| -1.0456974  |  0.36164012 | \n",
       "|  0.4322866  | -0.49987210 | \n",
       "|  1.2357590  |  0.02397851 | \n",
       "| -2.1793353  | -0.52676577 | \n",
       "|  0.5833167  | -0.84019802 | \n",
       "|  0.6599105  |  0.12182488 | \n",
       "\n",
       "\n"
      ],
      "text/plain": [
       "     [,1]       [,2]       \n",
       "[1,] -1.0456974  0.36164012\n",
       "[2,]  0.4322866 -0.49987210\n",
       "[3,]  1.2357590  0.02397851\n",
       "[4,] -2.1793353 -0.52676577\n",
       "[5,]  0.5833167 -0.84019802\n",
       "[6,]  0.6599105  0.12182488"
      ]
     },
     "metadata": {},
     "output_type": "display_data"
    },
    {
     "data": {
      "text/html": [
       "<table>\n",
       "<thead><tr><th scope=col>x</th><th scope=col>y</th></tr></thead>\n",
       "<tbody>\n",
       "\t<tr><td>-1.0456974 </td><td> 0.36164012</td></tr>\n",
       "\t<tr><td> 0.4322866 </td><td>-0.49987210</td></tr>\n",
       "\t<tr><td> 1.2357590 </td><td> 0.02397851</td></tr>\n",
       "\t<tr><td>-2.1793353 </td><td>-0.52676577</td></tr>\n",
       "\t<tr><td> 0.5833167 </td><td>-0.84019802</td></tr>\n",
       "\t<tr><td> 0.6599105 </td><td> 0.12182488</td></tr>\n",
       "</tbody>\n",
       "</table>\n"
      ],
      "text/latex": [
       "\\begin{tabular}{ll}\n",
       " x & y\\\\\n",
       "\\hline\n",
       "\t -1.0456974  &  0.36164012\\\\\n",
       "\t  0.4322866  & -0.49987210\\\\\n",
       "\t  1.2357590  &  0.02397851\\\\\n",
       "\t -2.1793353  & -0.52676577\\\\\n",
       "\t  0.5833167  & -0.84019802\\\\\n",
       "\t  0.6599105  &  0.12182488\\\\\n",
       "\\end{tabular}\n"
      ],
      "text/markdown": [
       "\n",
       "x | y | \n",
       "|---|---|---|---|---|---|\n",
       "| -1.0456974  |  0.36164012 | \n",
       "|  0.4322866  | -0.49987210 | \n",
       "|  1.2357590  |  0.02397851 | \n",
       "| -2.1793353  | -0.52676577 | \n",
       "|  0.5833167  | -0.84019802 | \n",
       "|  0.6599105  |  0.12182488 | \n",
       "\n",
       "\n"
      ],
      "text/plain": [
       "     x          y          \n",
       "[1,] -1.0456974  0.36164012\n",
       "[2,]  0.4322866 -0.49987210\n",
       "[3,]  1.2357590  0.02397851\n",
       "[4,] -2.1793353 -0.52676577\n",
       "[5,]  0.5833167 -0.84019802\n",
       "[6,]  0.6599105  0.12182488"
      ]
     },
     "metadata": {},
     "output_type": "display_data"
    },
    {
     "data": {
      "text/html": [
       "<table>\n",
       "<thead><tr><th scope=col>x</th><th scope=col>y</th></tr></thead>\n",
       "<tbody>\n",
       "\t<tr><td>-1.0456974 </td><td> 0.36164012</td></tr>\n",
       "\t<tr><td> 0.4322866 </td><td>-0.49987210</td></tr>\n",
       "\t<tr><td> 1.2357590 </td><td> 0.02397851</td></tr>\n",
       "\t<tr><td>-2.1793353 </td><td>-0.52676577</td></tr>\n",
       "\t<tr><td> 0.5833167 </td><td>-0.84019802</td></tr>\n",
       "\t<tr><td> 0.6599105 </td><td> 0.12182488</td></tr>\n",
       "</tbody>\n",
       "</table>\n"
      ],
      "text/latex": [
       "\\begin{tabular}{ll}\n",
       " x & y\\\\\n",
       "\\hline\n",
       "\t -1.0456974  &  0.36164012\\\\\n",
       "\t  0.4322866  & -0.49987210\\\\\n",
       "\t  1.2357590  &  0.02397851\\\\\n",
       "\t -2.1793353  & -0.52676577\\\\\n",
       "\t  0.5833167  & -0.84019802\\\\\n",
       "\t  0.6599105  &  0.12182488\\\\\n",
       "\\end{tabular}\n"
      ],
      "text/markdown": [
       "\n",
       "x | y | \n",
       "|---|---|---|---|---|---|\n",
       "| -1.0456974  |  0.36164012 | \n",
       "|  0.4322866  | -0.49987210 | \n",
       "|  1.2357590  |  0.02397851 | \n",
       "| -2.1793353  | -0.52676577 | \n",
       "|  0.5833167  | -0.84019802 | \n",
       "|  0.6599105  |  0.12182488 | \n",
       "\n",
       "\n"
      ],
      "text/plain": [
       "     x          y          \n",
       "[1,] -1.0456974  0.36164012\n",
       "[2,]  0.4322866 -0.49987210\n",
       "[3,]  1.2357590  0.02397851\n",
       "[4,] -2.1793353 -0.52676577\n",
       "[5,]  0.5833167 -0.84019802\n",
       "[6,]  0.6599105  0.12182488"
      ]
     },
     "metadata": {},
     "output_type": "display_data"
    },
    {
     "data": {
      "text/html": [
       "<table>\n",
       "<thead><tr><th scope=col>x</th><th scope=col>y</th></tr></thead>\n",
       "<tbody>\n",
       "\t<tr><td>-1.0456974 </td><td> 0.36164012</td></tr>\n",
       "\t<tr><td> 0.4322866 </td><td>-0.49987210</td></tr>\n",
       "\t<tr><td> 1.2357590 </td><td> 0.02397851</td></tr>\n",
       "\t<tr><td>-2.1793353 </td><td>-0.52676577</td></tr>\n",
       "\t<tr><td> 0.5833167 </td><td>-0.84019802</td></tr>\n",
       "\t<tr><td> 0.6599105 </td><td> 0.12182488</td></tr>\n",
       "</tbody>\n",
       "</table>\n"
      ],
      "text/latex": [
       "\\begin{tabular}{ll}\n",
       " x & y\\\\\n",
       "\\hline\n",
       "\t -1.0456974  &  0.36164012\\\\\n",
       "\t  0.4322866  & -0.49987210\\\\\n",
       "\t  1.2357590  &  0.02397851\\\\\n",
       "\t -2.1793353  & -0.52676577\\\\\n",
       "\t  0.5833167  & -0.84019802\\\\\n",
       "\t  0.6599105  &  0.12182488\\\\\n",
       "\\end{tabular}\n"
      ],
      "text/markdown": [
       "\n",
       "x | y | \n",
       "|---|---|---|---|---|---|\n",
       "| -1.0456974  |  0.36164012 | \n",
       "|  0.4322866  | -0.49987210 | \n",
       "|  1.2357590  |  0.02397851 | \n",
       "| -2.1793353  | -0.52676577 | \n",
       "|  0.5833167  | -0.84019802 | \n",
       "|  0.6599105  |  0.12182488 | \n",
       "\n",
       "\n"
      ],
      "text/plain": [
       "     x          y          \n",
       "[1,] -1.0456974  0.36164012\n",
       "[2,]  0.4322866 -0.49987210\n",
       "[3,]  1.2357590  0.02397851\n",
       "[4,] -2.1793353 -0.52676577\n",
       "[5,]  0.5833167 -0.84019802\n",
       "[6,]  0.6599105  0.12182488"
      ]
     },
     "metadata": {},
     "output_type": "display_data"
    }
   ],
   "source": [
    "###Regenerate Data - Can't regenerate from the direct eigen decomposition \n",
    "head(xySVD$u %*% D %*% t(xySVD$v))\n",
    "head(xyPCA$x %*% t(xyPCA$rotation))\n",
    "head(xyPCA.e$scores %*% t(xyPCA.e$loadings))\n",
    "head(xyNorm)"
   ]
  },
  {
   "cell_type": "markdown",
   "metadata": {},
   "source": [
    "# One more try"
   ]
  },
  {
   "cell_type": "markdown",
   "metadata": {},
   "source": [
    "```\n",
    "### Method one: eigendecomposition of covariance matrix\n",
    "xyCov <- cov(xyNorm)\n",
    "xyEigen <- eigen(xyCov) ###Eigen Decomposition off cov/cor matrix\n",
    "\n",
    "### Method two: XVD\n",
    "xySVD <- svd(xyNorm)   ###SVD is off the original data\n",
    "\n",
    "### Method three: PCA\n",
    "xyPCA   <- prcomp(xyNorm)\n",
    "xyPCA.e <- princomp(xyNorm)\n",
    "```"
   ]
  },
  {
   "cell_type": "code",
   "execution_count": 25,
   "metadata": {},
   "outputs": [
    {
     "data": {
      "text/html": [
       "<ol class=list-inline>\n",
       "\t<li>101.512902604313</li>\n",
       "\t<li>96.4870973956871</li>\n",
       "</ol>\n"
      ],
      "text/latex": [
       "\\begin{enumerate*}\n",
       "\\item 101.512902604313\n",
       "\\item 96.4870973956871\n",
       "\\end{enumerate*}\n"
      ],
      "text/markdown": [
       "1. 101.512902604313\n",
       "2. 96.4870973956871\n",
       "\n",
       "\n"
      ],
      "text/plain": [
       "[1] 101.5129  96.4871"
      ]
     },
     "metadata": {},
     "output_type": "display_data"
    }
   ],
   "source": [
    "xyEigen2 = eigen(t(xyNorm) %*% xyNorm)\n",
    "xyEigen2$values"
   ]
  },
  {
   "cell_type": "code",
   "execution_count": 27,
   "metadata": {},
   "outputs": [
    {
     "data": {
      "text/html": [
       "<ol class=list-inline>\n",
       "\t<li>101.512902604313</li>\n",
       "\t<li>96.4870973956871</li>\n",
       "</ol>\n"
      ],
      "text/latex": [
       "\\begin{enumerate*}\n",
       "\\item 101.512902604313\n",
       "\\item 96.4870973956871\n",
       "\\end{enumerate*}\n"
      ],
      "text/markdown": [
       "1. 101.512902604313\n",
       "2. 96.4870973956871\n",
       "\n",
       "\n"
      ],
      "text/plain": [
       "[1] 101.5129  96.4871"
      ]
     },
     "metadata": {},
     "output_type": "display_data"
    }
   ],
   "source": [
    "xySVD <- svd(xyNorm)\n",
    "xySVD$d^2"
   ]
  },
  {
   "cell_type": "code",
   "execution_count": null,
   "metadata": {},
   "outputs": [],
   "source": []
  }
 ],
 "metadata": {
  "kernelspec": {
   "display_name": "R",
   "language": "R",
   "name": "ir"
  },
  "language_info": {
   "codemirror_mode": "r",
   "file_extension": ".r",
   "mimetype": "text/x-r-source",
   "name": "R",
   "pygments_lexer": "r",
   "version": "3.5.1"
  }
 },
 "nbformat": 4,
 "nbformat_minor": 2
}
